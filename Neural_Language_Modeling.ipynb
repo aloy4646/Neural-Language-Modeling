{
  "nbformat": 4,
  "nbformat_minor": 0,
  "metadata": {
    "colab": {
      "provenance": [],
      "authorship_tag": "ABX9TyNVCks/BznZhRg52HP7vPam",
      "include_colab_link": true
    },
    "kernelspec": {
      "name": "python3",
      "display_name": "Python 3"
    },
    "language_info": {
      "name": "python"
    },
    "accelerator": "GPU",
    "gpuClass": "standard"
  },
  "cells": [
    {
      "cell_type": "markdown",
      "metadata": {
        "id": "view-in-github",
        "colab_type": "text"
      },
      "source": [
        "<a href=\"https://colab.research.google.com/github/aloy4646/Neural-Language-Modeling/blob/main/Neural_Language_Modeling.ipynb\" target=\"_parent\"><img src=\"https://colab.research.google.com/assets/colab-badge.svg\" alt=\"Open In Colab\"/></a>"
      ]
    },
    {
      "cell_type": "markdown",
      "source": [
        "# Tugas Akhir - Neural Language Modeling"
      ],
      "metadata": {
        "id": "6bgk3gsTacdg"
      }
    },
    {
      "cell_type": "markdown",
      "source": [
        "1120052 - Sean Patrik<br>\n",
        "1120053 - Aloysius"
      ],
      "metadata": {
        "id": "-xgZcSXMafXQ"
      }
    },
    {
      "cell_type": "code",
      "source": [
        "import matplotlib.pyplot as plt\n",
        "import numpy as np\n",
        "from numpy import array\n",
        "from pickle import dump\n",
        "from keras.utils import to_categorical\n",
        "from keras.utils.vis_utils import plot_model\n",
        "from keras.models import Sequential\n",
        "from keras.layers import Dense\n",
        "from keras.layers import LSTM\n",
        "from pickle import load\n",
        "from keras.models import load_model\n",
        "from keras.utils import pad_sequences"
      ],
      "metadata": {
        "id": "i22-yQv2jQF8"
      },
      "execution_count": 1,
      "outputs": []
    },
    {
      "cell_type": "markdown",
      "source": [
        "## Data Prepraration"
      ],
      "metadata": {
        "id": "CAHfWCXia6Ui"
      }
    },
    {
      "cell_type": "markdown",
      "source": [
        "### Data Loading"
      ],
      "metadata": {
        "id": "XDqnOwVtbl9R"
      }
    },
    {
      "cell_type": "code",
      "source": [
        "def load_doc(filename):\n",
        "  file = open(filename, 'r')\n",
        "  text = file.read()\n",
        "  file.close()\n",
        "  return text"
      ],
      "metadata": {
        "id": "Zma7pCbQab65"
      },
      "execution_count": 2,
      "outputs": []
    },
    {
      "cell_type": "code",
      "source": [
        "from google.colab import drive\n",
        "drive.mount('/content/drive')"
      ],
      "metadata": {
        "colab": {
          "base_uri": "https://localhost:8080/"
        },
        "id": "SYQDv40Eb-qC",
        "outputId": "8e24fea5-47c2-4ea4-c8eb-fd71576d5498"
      },
      "execution_count": 4,
      "outputs": [
        {
          "output_type": "stream",
          "name": "stdout",
          "text": [
            "Mounted at /content/drive\n"
          ]
        }
      ]
    },
    {
      "cell_type": "code",
      "source": [
        "raw_text = load_doc('/content/drive/MyDrive/rhyme/rhyme.txt')\n",
        "print(raw_text)"
      ],
      "metadata": {
        "colab": {
          "base_uri": "https://localhost:8080/"
        },
        "id": "S92HtJO9bzRE",
        "outputId": "51100f42-3d08-45f8-d225-e7233b6627eb"
      },
      "execution_count": 5,
      "outputs": [
        {
          "output_type": "stream",
          "name": "stdout",
          "text": [
            "Sing a song of sixpence,\n",
            "A pocket full of rye.\n",
            "Four and twenty blackbirds,\n",
            "Baked in a pie.\n",
            "\n",
            "When the pie was opened\n",
            "The birds began to sing;\n",
            "Wasn't that a dainty dish,\n",
            "To set before the king.\n",
            "\n",
            "The king was in his counting house,\n",
            "Counting out his money;\n",
            "The queen was in the parlour,\n",
            "Eating bread and honey.\n",
            "\n",
            "The maid was in the garden,\n",
            "Hanging out the clothes,\n",
            "When down came a blackbird\n",
            "And pecked off her nose.\n"
          ]
        }
      ]
    },
    {
      "cell_type": "markdown",
      "source": [
        "### Membersihkan teks"
      ],
      "metadata": {
        "id": "quUIb8LFbrXY"
      }
    },
    {
      "cell_type": "markdown",
      "source": [
        "melakukan split text dan memisahkan setiap kata dengan spasi"
      ],
      "metadata": {
        "id": "L1nmijFScfye"
      }
    },
    {
      "cell_type": "code",
      "source": [
        "tokens = raw_text.split()\n",
        "raw_text = ' '.join(tokens)"
      ],
      "metadata": {
        "id": "txSQwaL9bqMp"
      },
      "execution_count": 6,
      "outputs": []
    },
    {
      "cell_type": "code",
      "source": [
        "raw_text"
      ],
      "metadata": {
        "colab": {
          "base_uri": "https://localhost:8080/",
          "height": 70
        },
        "id": "KZUf1Ct2gpZv",
        "outputId": "2ed3525a-e99b-4160-d47e-a1a9de0a4e65"
      },
      "execution_count": 7,
      "outputs": [
        {
          "output_type": "execute_result",
          "data": {
            "text/plain": [
              "\"Sing a song of sixpence, A pocket full of rye. Four and twenty blackbirds, Baked in a pie. When the pie was opened The birds began to sing; Wasn't that a dainty dish, To set before the king. The king was in his counting house, Counting out his money; The queen was in the parlour, Eating bread and honey. The maid was in the garden, Hanging out the clothes, When down came a blackbird And pecked off her nose.\""
            ],
            "application/vnd.google.colaboratory.intrinsic+json": {
              "type": "string"
            }
          },
          "metadata": {},
          "execution_count": 7
        }
      ]
    },
    {
      "cell_type": "markdown",
      "source": [
        "### Membuat sequences"
      ],
      "metadata": {
        "id": "wYxgMk5cc-4S"
      }
    },
    {
      "cell_type": "markdown",
      "source": [
        "Setiap sequences berisi 10 karakter input + 1 karakter output"
      ],
      "metadata": {
        "id": "jM6dOcWHedfB"
      }
    },
    {
      "cell_type": "code",
      "execution_count": 8,
      "metadata": {
        "colab": {
          "base_uri": "https://localhost:8080/"
        },
        "id": "a9kbyxG9YG1-",
        "outputId": "5320174c-8a74-47c3-e89c-f180c191a545"
      },
      "outputs": [
        {
          "output_type": "stream",
          "name": "stdout",
          "text": [
            "Total Sequences: 399\n"
          ]
        }
      ],
      "source": [
        "length = 10\n",
        "sequences = list()\n",
        "for i in range(length, len(raw_text)):\n",
        "  seq = raw_text[i-length:i+1]\n",
        "  sequences.append(seq)\n",
        "print('Total Sequences: %d' % len(sequences))"
      ]
    },
    {
      "cell_type": "markdown",
      "source": [
        "##### Print beberapa isi sequences"
      ],
      "metadata": {
        "id": "AyD334wMePYQ"
      }
    },
    {
      "cell_type": "code",
      "source": [
        "sequences[:10]"
      ],
      "metadata": {
        "colab": {
          "base_uri": "https://localhost:8080/"
        },
        "id": "y5arnmfudtnq",
        "outputId": "aec3f4ae-d3c0-4621-9483-d0d47cc9ae40"
      },
      "execution_count": 9,
      "outputs": [
        {
          "output_type": "execute_result",
          "data": {
            "text/plain": [
              "['Sing a song',\n",
              " 'ing a song ',\n",
              " 'ng a song o',\n",
              " 'g a song of',\n",
              " ' a song of ',\n",
              " 'a song of s',\n",
              " ' song of si',\n",
              " 'song of six',\n",
              " 'ong of sixp',\n",
              " 'ng of sixpe']"
            ]
          },
          "metadata": {},
          "execution_count": 9
        }
      ]
    },
    {
      "cell_type": "markdown",
      "source": [
        "### Menyimpan Sequences"
      ],
      "metadata": {
        "id": "BgLCQju3etmv"
      }
    },
    {
      "cell_type": "code",
      "source": [
        "def save_doc(lines, filename):\n",
        "  data = '\\n'.join(lines)\n",
        "  file = open(filename, 'w')\n",
        "  file.write(data)\n",
        "  file.close()"
      ],
      "metadata": {
        "id": "6uYIcgVxdzQa"
      },
      "execution_count": 10,
      "outputs": []
    },
    {
      "cell_type": "code",
      "source": [
        "out_filename = '/content/drive/MyDrive/rhyme/char_sequences.txt'\n",
        "save_doc(sequences, out_filename)"
      ],
      "metadata": {
        "id": "UxVRflVufHAs"
      },
      "execution_count": 11,
      "outputs": []
    },
    {
      "cell_type": "markdown",
      "source": [
        "## Training Language Model"
      ],
      "metadata": {
        "id": "B-yoZz7rfnfX"
      }
    },
    {
      "cell_type": "markdown",
      "source": [
        "### Load sequence text"
      ],
      "metadata": {
        "id": "6i6B3Lshhxlb"
      }
    },
    {
      "cell_type": "code",
      "source": [
        "in_filename = '/content/drive/MyDrive/rhyme/char_sequences.txt'\n",
        "sequence_text = load_doc(in_filename)\n",
        "sequence_text_lines = sequence_text.split('\\n')"
      ],
      "metadata": {
        "id": "ybMwnOOqgUFl"
      },
      "execution_count": 12,
      "outputs": []
    },
    {
      "cell_type": "code",
      "source": [
        "sequence_text_lines[:10]"
      ],
      "metadata": {
        "colab": {
          "base_uri": "https://localhost:8080/"
        },
        "id": "-n95MYgEhPQ2",
        "outputId": "c055b2d3-dfa3-4a34-8c6b-759b8232981e"
      },
      "execution_count": 13,
      "outputs": [
        {
          "output_type": "execute_result",
          "data": {
            "text/plain": [
              "['Sing a song',\n",
              " 'ing a song ',\n",
              " 'ng a song o',\n",
              " 'g a song of',\n",
              " ' a song of ',\n",
              " 'a song of s',\n",
              " ' song of si',\n",
              " 'song of six',\n",
              " 'ong of sixp',\n",
              " 'ng of sixpe']"
            ]
          },
          "metadata": {},
          "execution_count": 13
        }
      ]
    },
    {
      "cell_type": "markdown",
      "source": [
        "### Encode sequence text"
      ],
      "metadata": {
        "id": "tmucREB0iHNC"
      }
    },
    {
      "cell_type": "markdown",
      "source": [
        "merubah kalimat menjadi bilangan integer"
      ],
      "metadata": {
        "id": "IOejtI4IiPis"
      }
    },
    {
      "cell_type": "code",
      "source": [
        "chars = sorted(list(set(sequence_text)))\n",
        "mapping = dict((c, i) for i, c in enumerate(chars))\n",
        "\n",
        "sequences = list()\n",
        "for line in sequence_text_lines:\n",
        "  encoded_seq = [mapping[char] for char in line]\n",
        "  sequences.append(encoded_seq)\n",
        "\n",
        "vocab_size = len(mapping)\n",
        "print('Vocabulary Size: %d' % vocab_size)"
      ],
      "metadata": {
        "colab": {
          "base_uri": "https://localhost:8080/"
        },
        "id": "hzw6DBbphQl7",
        "outputId": "e27bc41c-ba39-461e-a726-11bea0739770"
      },
      "execution_count": 14,
      "outputs": [
        {
          "output_type": "stream",
          "name": "stdout",
          "text": [
            "Vocabulary Size: 38\n"
          ]
        }
      ]
    },
    {
      "cell_type": "markdown",
      "source": [
        "### Memisahkan karakter input dan output"
      ],
      "metadata": {
        "id": "1huzcbIci3-w"
      }
    },
    {
      "cell_type": "markdown",
      "source": [
        "Karakter terakhir pada satu sequences merupakan karakter output"
      ],
      "metadata": {
        "id": "oSCHmaGKjIId"
      }
    },
    {
      "cell_type": "code",
      "source": [
        "sequences = array(sequences)\n",
        "X, y = sequences[:,:-1], sequences[:,-1]\n",
        "\n",
        "# sequences = array(sequences)\n",
        "# X, y = sequences[:,:-1], sequences[:,-1]"
      ],
      "metadata": {
        "id": "Xj6TGSQZiygg"
      },
      "execution_count": 15,
      "outputs": []
    },
    {
      "cell_type": "markdown",
      "source": [
        "#### one hot encode"
      ],
      "metadata": {
        "id": "u7kY-5VulwSo"
      }
    },
    {
      "cell_type": "code",
      "source": [
        "sequences = [to_categorical(x, num_classes=vocab_size) for x in X]\n",
        "X = array(sequences)\n",
        "y = to_categorical(y, num_classes=vocab_size)"
      ],
      "metadata": {
        "id": "hl88qxxVkPLb"
      },
      "execution_count": 16,
      "outputs": []
    },
    {
      "cell_type": "markdown",
      "source": [
        "### Define model"
      ],
      "metadata": {
        "id": "7YEixLSQl7nn"
      }
    },
    {
      "cell_type": "code",
      "source": [
        "def define_model(X):\n",
        "  model = Sequential()\n",
        "  model.add(LSTM(75, input_shape=(X.shape[1], X.shape[2])))\n",
        "  model.add(Dense(vocab_size, activation='softmax'))\n",
        "  model.compile(loss='categorical_crossentropy', optimizer='adam', metrics=['accuracy'])\n",
        "  model.summary()\n",
        "  return model"
      ],
      "metadata": {
        "id": "9JEc06LUlcUr"
      },
      "execution_count": 17,
      "outputs": []
    },
    {
      "cell_type": "code",
      "source": [
        "model = define_model(X)"
      ],
      "metadata": {
        "colab": {
          "base_uri": "https://localhost:8080/"
        },
        "id": "sULJvXYgmmr9",
        "outputId": "707214d1-9674-4ad4-8c71-87bf994ad981"
      },
      "execution_count": 18,
      "outputs": [
        {
          "output_type": "stream",
          "name": "stdout",
          "text": [
            "Model: \"sequential\"\n",
            "_________________________________________________________________\n",
            " Layer (type)                Output Shape              Param #   \n",
            "=================================================================\n",
            " lstm (LSTM)                 (None, 75)                34200     \n",
            "                                                                 \n",
            " dense (Dense)               (None, 38)                2888      \n",
            "                                                                 \n",
            "=================================================================\n",
            "Total params: 37,088\n",
            "Trainable params: 37,088\n",
            "Non-trainable params: 0\n",
            "_________________________________________________________________\n"
          ]
        }
      ]
    },
    {
      "cell_type": "code",
      "source": [
        "plot_model(model, show_shapes=True)"
      ],
      "metadata": {
        "colab": {
          "base_uri": "https://localhost:8080/",
          "height": 312
        },
        "id": "UP8_k641nQT7",
        "outputId": "29f29208-9ba3-463a-c6b1-8fd2a551d1a8"
      },
      "execution_count": 19,
      "outputs": [
        {
          "output_type": "execute_result",
          "data": {
            "image/png": "[encoded data removed]",
            "text/plain": [
              "<IPython.core.display.Image object>"
            ]
          },
          "metadata": {},
          "execution_count": 19
        }
      ]
    },
    {
      "cell_type": "markdown",
      "source": [
        "### Fit model"
      ],
      "metadata": {
        "id": "0hXg-PJ3mUQc"
      }
    },
    {
      "cell_type": "code",
      "source": [
        "hist = model.fit(X, y, epochs=100, verbose=2)"
      ],
      "metadata": {
        "colab": {
          "base_uri": "https://localhost:8080/"
        },
        "id": "L8a0L4dKmQRD",
        "outputId": "76e58cb3-49b9-4a5a-ae34-f935ceb24580"
      },
      "execution_count": 20,
      "outputs": [
        {
          "output_type": "stream",
          "name": "stdout",
          "text": [
            "Epoch 1/100\n",
            "13/13 - 9s - loss: 3.6009 - accuracy: 0.1378 - 9s/epoch - 655ms/step\n",
            "Epoch 2/100\n",
            "13/13 - 0s - loss: 3.4317 - accuracy: 0.1905 - 76ms/epoch - 6ms/step\n",
            "Epoch 3/100\n",
            "13/13 - 0s - loss: 3.1447 - accuracy: 0.1905 - 74ms/epoch - 6ms/step\n",
            "Epoch 4/100\n",
            "13/13 - 0s - loss: 3.0555 - accuracy: 0.1905 - 74ms/epoch - 6ms/step\n",
            "Epoch 5/100\n",
            "13/13 - 0s - loss: 3.0103 - accuracy: 0.1905 - 72ms/epoch - 6ms/step\n",
            "Epoch 6/100\n",
            "13/13 - 0s - loss: 2.9885 - accuracy: 0.1905 - 71ms/epoch - 5ms/step\n",
            "Epoch 7/100\n",
            "13/13 - 0s - loss: 2.9694 - accuracy: 0.1905 - 90ms/epoch - 7ms/step\n",
            "Epoch 8/100\n",
            "13/13 - 0s - loss: 2.9552 - accuracy: 0.1905 - 72ms/epoch - 6ms/step\n",
            "Epoch 9/100\n",
            "13/13 - 0s - loss: 2.9369 - accuracy: 0.1905 - 74ms/epoch - 6ms/step\n",
            "Epoch 10/100\n",
            "13/13 - 0s - loss: 2.9153 - accuracy: 0.1905 - 122ms/epoch - 9ms/step\n",
            "Epoch 11/100\n",
            "13/13 - 0s - loss: 2.8929 - accuracy: 0.1905 - 83ms/epoch - 6ms/step\n",
            "Epoch 12/100\n",
            "13/13 - 0s - loss: 2.8712 - accuracy: 0.2180 - 86ms/epoch - 7ms/step\n",
            "Epoch 13/100\n",
            "13/13 - 0s - loss: 2.8361 - accuracy: 0.2055 - 78ms/epoch - 6ms/step\n",
            "Epoch 14/100\n",
            "13/13 - 0s - loss: 2.7981 - accuracy: 0.1980 - 101ms/epoch - 8ms/step\n",
            "Epoch 15/100\n",
            "13/13 - 0s - loss: 2.7637 - accuracy: 0.2356 - 79ms/epoch - 6ms/step\n",
            "Epoch 16/100\n",
            "13/13 - 0s - loss: 2.7411 - accuracy: 0.2331 - 88ms/epoch - 7ms/step\n",
            "Epoch 17/100\n",
            "13/13 - 0s - loss: 2.6933 - accuracy: 0.2431 - 116ms/epoch - 9ms/step\n",
            "Epoch 18/100\n",
            "13/13 - 0s - loss: 2.6473 - accuracy: 0.2531 - 103ms/epoch - 8ms/step\n",
            "Epoch 19/100\n",
            "13/13 - 0s - loss: 2.6355 - accuracy: 0.2431 - 60ms/epoch - 5ms/step\n",
            "Epoch 20/100\n",
            "13/13 - 0s - loss: 2.6019 - accuracy: 0.2531 - 54ms/epoch - 4ms/step\n",
            "Epoch 21/100\n",
            "13/13 - 0s - loss: 2.5319 - accuracy: 0.2807 - 50ms/epoch - 4ms/step\n",
            "Epoch 22/100\n",
            "13/13 - 0s - loss: 2.4940 - accuracy: 0.2581 - 52ms/epoch - 4ms/step\n",
            "Epoch 23/100\n",
            "13/13 - 0s - loss: 2.4501 - accuracy: 0.3158 - 63ms/epoch - 5ms/step\n",
            "Epoch 24/100\n",
            "13/13 - 0s - loss: 2.3963 - accuracy: 0.3183 - 51ms/epoch - 4ms/step\n",
            "Epoch 25/100\n",
            "13/13 - 0s - loss: 2.3781 - accuracy: 0.3409 - 50ms/epoch - 4ms/step\n",
            "Epoch 26/100\n",
            "13/13 - 0s - loss: 2.3284 - accuracy: 0.3158 - 50ms/epoch - 4ms/step\n",
            "Epoch 27/100\n",
            "13/13 - 0s - loss: 2.2868 - accuracy: 0.3409 - 49ms/epoch - 4ms/step\n",
            "Epoch 28/100\n",
            "13/13 - 0s - loss: 2.2607 - accuracy: 0.3684 - 49ms/epoch - 4ms/step\n",
            "Epoch 29/100\n",
            "13/13 - 0s - loss: 2.2187 - accuracy: 0.3333 - 52ms/epoch - 4ms/step\n",
            "Epoch 30/100\n",
            "13/13 - 0s - loss: 2.1694 - accuracy: 0.3784 - 65ms/epoch - 5ms/step\n",
            "Epoch 31/100\n",
            "13/13 - 0s - loss: 2.1363 - accuracy: 0.3885 - 53ms/epoch - 4ms/step\n",
            "Epoch 32/100\n",
            "13/13 - 0s - loss: 2.0901 - accuracy: 0.4010 - 51ms/epoch - 4ms/step\n",
            "Epoch 33/100\n",
            "13/13 - 0s - loss: 2.0521 - accuracy: 0.4286 - 52ms/epoch - 4ms/step\n",
            "Epoch 34/100\n",
            "13/13 - 0s - loss: 2.0041 - accuracy: 0.4261 - 51ms/epoch - 4ms/step\n",
            "Epoch 35/100\n",
            "13/13 - 0s - loss: 1.9764 - accuracy: 0.4561 - 48ms/epoch - 4ms/step\n",
            "Epoch 36/100\n",
            "13/13 - 0s - loss: 1.9510 - accuracy: 0.4411 - 49ms/epoch - 4ms/step\n",
            "Epoch 37/100\n",
            "13/13 - 0s - loss: 1.9042 - accuracy: 0.4687 - 49ms/epoch - 4ms/step\n",
            "Epoch 38/100\n",
            "13/13 - 0s - loss: 1.8523 - accuracy: 0.4787 - 48ms/epoch - 4ms/step\n",
            "Epoch 39/100\n",
            "13/13 - 0s - loss: 1.8192 - accuracy: 0.4962 - 50ms/epoch - 4ms/step\n",
            "Epoch 40/100\n",
            "13/13 - 0s - loss: 1.7728 - accuracy: 0.5063 - 50ms/epoch - 4ms/step\n",
            "Epoch 41/100\n",
            "13/13 - 0s - loss: 1.7661 - accuracy: 0.5013 - 56ms/epoch - 4ms/step\n",
            "Epoch 42/100\n",
            "13/13 - 0s - loss: 1.7216 - accuracy: 0.4962 - 48ms/epoch - 4ms/step\n",
            "Epoch 43/100\n",
            "13/13 - 0s - loss: 1.6681 - accuracy: 0.5238 - 48ms/epoch - 4ms/step\n",
            "Epoch 44/100\n",
            "13/13 - 0s - loss: 1.6239 - accuracy: 0.5363 - 52ms/epoch - 4ms/step\n",
            "Epoch 45/100\n",
            "13/13 - 0s - loss: 1.5619 - accuracy: 0.5539 - 50ms/epoch - 4ms/step\n",
            "Epoch 46/100\n",
            "13/13 - 0s - loss: 1.5472 - accuracy: 0.5489 - 49ms/epoch - 4ms/step\n",
            "Epoch 47/100\n",
            "13/13 - 0s - loss: 1.5086 - accuracy: 0.5815 - 48ms/epoch - 4ms/step\n",
            "Epoch 48/100\n",
            "13/13 - 0s - loss: 1.4574 - accuracy: 0.5664 - 49ms/epoch - 4ms/step\n",
            "Epoch 49/100\n",
            "13/13 - 0s - loss: 1.4265 - accuracy: 0.6015 - 49ms/epoch - 4ms/step\n",
            "Epoch 50/100\n",
            "13/13 - 0s - loss: 1.3749 - accuracy: 0.6090 - 56ms/epoch - 4ms/step\n",
            "Epoch 51/100\n",
            "13/13 - 0s - loss: 1.3652 - accuracy: 0.6090 - 50ms/epoch - 4ms/step\n",
            "Epoch 52/100\n",
            "13/13 - 0s - loss: 1.3224 - accuracy: 0.6516 - 54ms/epoch - 4ms/step\n",
            "Epoch 53/100\n",
            "13/13 - 0s - loss: 1.2568 - accuracy: 0.6742 - 50ms/epoch - 4ms/step\n",
            "Epoch 54/100\n",
            "13/13 - 0s - loss: 1.2285 - accuracy: 0.6767 - 57ms/epoch - 4ms/step\n",
            "Epoch 55/100\n",
            "13/13 - 0s - loss: 1.1858 - accuracy: 0.6767 - 49ms/epoch - 4ms/step\n",
            "Epoch 56/100\n",
            "13/13 - 0s - loss: 1.1485 - accuracy: 0.7043 - 50ms/epoch - 4ms/step\n",
            "Epoch 57/100\n",
            "13/13 - 0s - loss: 1.1125 - accuracy: 0.7318 - 48ms/epoch - 4ms/step\n",
            "Epoch 58/100\n",
            "13/13 - 0s - loss: 1.0835 - accuracy: 0.7444 - 48ms/epoch - 4ms/step\n",
            "Epoch 59/100\n",
            "13/13 - 0s - loss: 1.0410 - accuracy: 0.7644 - 68ms/epoch - 5ms/step\n",
            "Epoch 60/100\n",
            "13/13 - 0s - loss: 1.0122 - accuracy: 0.7519 - 50ms/epoch - 4ms/step\n",
            "Epoch 61/100\n",
            "13/13 - 0s - loss: 0.9960 - accuracy: 0.7794 - 50ms/epoch - 4ms/step\n",
            "Epoch 62/100\n",
            "13/13 - 0s - loss: 0.9401 - accuracy: 0.7970 - 48ms/epoch - 4ms/step\n",
            "Epoch 63/100\n",
            "13/13 - 0s - loss: 0.9077 - accuracy: 0.8070 - 55ms/epoch - 4ms/step\n",
            "Epoch 64/100\n",
            "13/13 - 0s - loss: 0.8754 - accuracy: 0.8170 - 57ms/epoch - 4ms/step\n",
            "Epoch 65/100\n",
            "13/13 - 0s - loss: 0.8409 - accuracy: 0.8396 - 48ms/epoch - 4ms/step\n",
            "Epoch 66/100\n",
            "13/13 - 0s - loss: 0.8090 - accuracy: 0.8596 - 47ms/epoch - 4ms/step\n",
            "Epoch 67/100\n",
            "13/13 - 0s - loss: 0.7815 - accuracy: 0.8571 - 50ms/epoch - 4ms/step\n",
            "Epoch 68/100\n",
            "13/13 - 0s - loss: 0.7583 - accuracy: 0.8622 - 48ms/epoch - 4ms/step\n",
            "Epoch 69/100\n",
            "13/13 - 0s - loss: 0.7407 - accuracy: 0.8847 - 48ms/epoch - 4ms/step\n",
            "Epoch 70/100\n",
            "13/13 - 0s - loss: 0.7114 - accuracy: 0.8947 - 51ms/epoch - 4ms/step\n",
            "Epoch 71/100\n",
            "13/13 - 0s - loss: 0.7073 - accuracy: 0.8772 - 50ms/epoch - 4ms/step\n",
            "Epoch 72/100\n",
            "13/13 - 0s - loss: 0.6486 - accuracy: 0.9123 - 51ms/epoch - 4ms/step\n",
            "Epoch 73/100\n",
            "13/13 - 0s - loss: 0.6217 - accuracy: 0.9248 - 49ms/epoch - 4ms/step\n",
            "Epoch 74/100\n",
            "13/13 - 0s - loss: 0.6041 - accuracy: 0.9123 - 49ms/epoch - 4ms/step\n",
            "Epoch 75/100\n",
            "13/13 - 0s - loss: 0.5697 - accuracy: 0.9424 - 59ms/epoch - 5ms/step\n",
            "Epoch 76/100\n",
            "13/13 - 0s - loss: 0.5602 - accuracy: 0.9398 - 48ms/epoch - 4ms/step\n",
            "Epoch 77/100\n",
            "13/13 - 0s - loss: 0.5334 - accuracy: 0.9373 - 49ms/epoch - 4ms/step\n",
            "Epoch 78/100\n",
            "13/13 - 0s - loss: 0.5125 - accuracy: 0.9499 - 58ms/epoch - 4ms/step\n",
            "Epoch 79/100\n",
            "13/13 - 0s - loss: 0.4884 - accuracy: 0.9449 - 50ms/epoch - 4ms/step\n",
            "Epoch 80/100\n",
            "13/13 - 0s - loss: 0.4630 - accuracy: 0.9574 - 50ms/epoch - 4ms/step\n",
            "Epoch 81/100\n",
            "13/13 - 0s - loss: 0.4617 - accuracy: 0.9624 - 48ms/epoch - 4ms/step\n",
            "Epoch 82/100\n",
            "13/13 - 0s - loss: 0.4319 - accuracy: 0.9549 - 48ms/epoch - 4ms/step\n",
            "Epoch 83/100\n",
            "13/13 - 0s - loss: 0.4229 - accuracy: 0.9649 - 51ms/epoch - 4ms/step\n",
            "Epoch 84/100\n",
            "13/13 - 0s - loss: 0.4017 - accuracy: 0.9599 - 48ms/epoch - 4ms/step\n",
            "Epoch 85/100\n",
            "13/13 - 0s - loss: 0.3817 - accuracy: 0.9674 - 47ms/epoch - 4ms/step\n",
            "Epoch 86/100\n",
            "13/13 - 0s - loss: 0.3678 - accuracy: 0.9749 - 54ms/epoch - 4ms/step\n",
            "Epoch 87/100\n",
            "13/13 - 0s - loss: 0.3514 - accuracy: 0.9850 - 48ms/epoch - 4ms/step\n",
            "Epoch 88/100\n",
            "13/13 - 0s - loss: 0.3440 - accuracy: 0.9724 - 51ms/epoch - 4ms/step\n",
            "Epoch 89/100\n",
            "13/13 - 0s - loss: 0.3301 - accuracy: 0.9674 - 49ms/epoch - 4ms/step\n",
            "Epoch 90/100\n",
            "13/13 - 0s - loss: 0.3215 - accuracy: 0.9774 - 58ms/epoch - 4ms/step\n",
            "Epoch 91/100\n",
            "13/13 - 0s - loss: 0.2995 - accuracy: 0.9850 - 48ms/epoch - 4ms/step\n",
            "Epoch 92/100\n",
            "13/13 - 0s - loss: 0.2870 - accuracy: 0.9825 - 50ms/epoch - 4ms/step\n",
            "Epoch 93/100\n",
            "13/13 - 0s - loss: 0.2732 - accuracy: 0.9900 - 50ms/epoch - 4ms/step\n",
            "Epoch 94/100\n",
            "13/13 - 0s - loss: 0.2678 - accuracy: 0.9875 - 56ms/epoch - 4ms/step\n",
            "Epoch 95/100\n",
            "13/13 - 0s - loss: 0.2549 - accuracy: 0.9900 - 54ms/epoch - 4ms/step\n",
            "Epoch 96/100\n",
            "13/13 - 0s - loss: 0.2435 - accuracy: 0.9875 - 58ms/epoch - 4ms/step\n",
            "Epoch 97/100\n",
            "13/13 - 0s - loss: 0.2361 - accuracy: 0.9925 - 49ms/epoch - 4ms/step\n",
            "Epoch 98/100\n",
            "13/13 - 0s - loss: 0.2289 - accuracy: 0.9925 - 47ms/epoch - 4ms/step\n",
            "Epoch 99/100\n",
            "13/13 - 0s - loss: 0.2217 - accuracy: 0.9925 - 48ms/epoch - 4ms/step\n",
            "Epoch 100/100\n",
            "13/13 - 0s - loss: 0.2176 - accuracy: 0.9950 - 49ms/epoch - 4ms/step\n"
          ]
        }
      ]
    },
    {
      "cell_type": "code",
      "source": [
        "hist.history.keys()"
      ],
      "metadata": {
        "colab": {
          "base_uri": "https://localhost:8080/"
        },
        "id": "-X2FnUZ5pEQR",
        "outputId": "ec1bbc1d-7853-470a-eeee-3678df260cd2"
      },
      "execution_count": 21,
      "outputs": [
        {
          "output_type": "execute_result",
          "data": {
            "text/plain": [
              "dict_keys(['loss', 'accuracy'])"
            ]
          },
          "metadata": {},
          "execution_count": 21
        }
      ]
    },
    {
      "cell_type": "code",
      "source": [
        "plt.plot(hist.history['accuracy'])\n",
        "plt.title(\"Model Accuracy\")\n",
        "plt.ylabel(\"Accuracy\")\n",
        "plt.xlabel(\"Epoch\")\n",
        "plt.show()"
      ],
      "metadata": {
        "colab": {
          "base_uri": "https://localhost:8080/",
          "height": 472
        },
        "id": "By6PXzHSnzDn",
        "outputId": "31122580-a49c-4527-bf9e-7dd3909ee16f"
      },
      "execution_count": 24,
      "outputs": [
        {
          "output_type": "display_data",
          "data": {
            "text/plain": [
              "<Figure size 640x480 with 1 Axes>"
            ],
            "image/png": "[encoded data removed]"
          },
          "metadata": {}
        }
      ]
    },
    {
      "cell_type": "code",
      "source": [
        "plt.plot(hist.history['loss'])\n",
        "plt.title(\"Model Loss\")\n",
        "plt.ylabel(\"Loss\")\n",
        "plt.xlabel(\"Epoch\")\n",
        "plt.show()"
      ],
      "metadata": {
        "colab": {
          "base_uri": "https://localhost:8080/",
          "height": 472
        },
        "id": "M-AE_Uwj2OoA",
        "outputId": "0224a823-e8e6-4daf-fe15-6f6a6ea70555"
      },
      "execution_count": 23,
      "outputs": [
        {
          "output_type": "display_data",
          "data": {
            "text/plain": [
              "<Figure size 640x480 with 1 Axes>"
            ],
            "image/png": "[encoded data removed]"
          },
          "metadata": {}
        }
      ]
    },
    {
      "cell_type": "code",
      "source": [
        "model.save('/content/drive/MyDrive/rhyme/model.h5')"
      ],
      "metadata": {
        "id": "hrwb4DT1o_po"
      },
      "execution_count": 25,
      "outputs": []
    },
    {
      "cell_type": "markdown",
      "source": [
        "menyimpan mapping dari karakter ke integer untuk encode kalimat input"
      ],
      "metadata": {
        "id": "PhuHZ7kJrRGM"
      }
    },
    {
      "cell_type": "code",
      "source": [
        "dump(mapping, open('/content/drive/MyDrive/rhyme/mapping.pkl', 'wb'))"
      ],
      "metadata": {
        "id": "WJinrO00q8HI"
      },
      "execution_count": 26,
      "outputs": []
    },
    {
      "cell_type": "markdown",
      "source": [
        "## Test model untuk generate text"
      ],
      "metadata": {
        "id": "SNnajXx5p6Tg"
      }
    },
    {
      "cell_type": "code",
      "source": [
        "model = load_model('/content/drive/MyDrive/rhyme/model.h5')\n",
        "mapping = load(open('/content/drive/MyDrive/rhyme/mapping.pkl', 'rb'))"
      ],
      "metadata": {
        "id": "FnQsna4UptNf"
      },
      "execution_count": 27,
      "outputs": []
    },
    {
      "cell_type": "code",
      "source": [
        "def generate_seq(model, mapping, seq_length, seed_text, n_chars):\n",
        "  in_text = seed_text\n",
        "  \n",
        "  for _ in range(n_chars):\n",
        "    encoded = [mapping[char] for char in in_text]\n",
        "    encoded = pad_sequences([encoded], maxlen=seq_length, truncating='pre')\n",
        "    encoded = to_categorical(encoded, num_classes=len(mapping))\n",
        "\n",
        "    # reshape tidak sesuai dengan yang dibuku karena terjadi error\n",
        "    encoded = encoded.reshape(1, encoded.shape[1], vocab_size)\n",
        "    \n",
        "    yhat_probability = model.predict(encoded, verbose=0)\n",
        "    yhat = np.argmax(yhat_probability, axis=-1)\n",
        "\n",
        "    # merubah integer to character\n",
        "    out_char = ''\n",
        "    for char, index in mapping.items():\n",
        "      if index == yhat:\n",
        "        out_char = char\n",
        "        break\n",
        "\n",
        "    in_text += out_char\n",
        "  return in_text"
      ],
      "metadata": {
        "id": "xoeMMvMWrqO-"
      },
      "execution_count": 28,
      "outputs": []
    },
    {
      "cell_type": "markdown",
      "source": [
        "### Test dengan kalimat dari rhyme"
      ],
      "metadata": {
        "id": "X1iA24BvxcVx"
      }
    },
    {
      "cell_type": "code",
      "source": [
        "print(generate_seq(model, mapping, 10, 'Sing a son', 20))"
      ],
      "metadata": {
        "colab": {
          "base_uri": "https://localhost:8080/"
        },
        "id": "Rr9LH40vsSR6",
        "outputId": "1c228e6a-5638-4465-f53a-3bbf5b3c19d0"
      },
      "execution_count": 29,
      "outputs": [
        {
          "output_type": "stream",
          "name": "stdout",
          "text": [
            "Sing a song of sixpence, A poc\n"
          ]
        }
      ]
    },
    {
      "cell_type": "code",
      "source": [
        "print(generate_seq(model, mapping, 10, 'king was i', 20))"
      ],
      "metadata": {
        "colab": {
          "base_uri": "https://localhost:8080/"
        },
        "id": "Iz3HOw0dsVNL",
        "outputId": "2f889155-280f-48c5-c82f-c78cfd524429"
      },
      "execution_count": 30,
      "outputs": [
        {
          "output_type": "stream",
          "name": "stdout",
          "text": [
            "king was in his counting house\n"
          ]
        }
      ]
    },
    {
      "cell_type": "code",
      "source": [
        "print(generate_seq(model, mapping, 10, 'When the pie', 20))"
      ],
      "metadata": {
        "colab": {
          "base_uri": "https://localhost:8080/"
        },
        "id": "R1CkVAL1xh4S",
        "outputId": "dbfeed16-f584-4fb6-b0e4-50dcef9a38f4"
      },
      "execution_count": 31,
      "outputs": [
        {
          "output_type": "stream",
          "name": "stdout",
          "text": [
            "When the pie was opened The bird\n"
          ]
        }
      ]
    },
    {
      "cell_type": "code",
      "source": [
        "print(generate_seq(model, mapping, 10, \"is counting\", 20))"
      ],
      "metadata": {
        "colab": {
          "base_uri": "https://localhost:8080/"
        },
        "id": "INNhxE_1x1MO",
        "outputId": "424dfb42-e47a-47f3-d2d9-181f63e06866"
      },
      "execution_count": 32,
      "outputs": [
        {
          "output_type": "stream",
          "name": "stdout",
          "text": [
            "is counting house, Counting out\n"
          ]
        }
      ]
    },
    {
      "cell_type": "code",
      "source": [
        "print(generate_seq(model, mapping, 10, \"before the\", 20))"
      ],
      "metadata": {
        "colab": {
          "base_uri": "https://localhost:8080/"
        },
        "id": "y3RoszYix8-s",
        "outputId": "8c4b7060-ca5c-4cca-e1f9-3a9bf3a78e21"
      },
      "execution_count": 33,
      "outputs": [
        {
          "output_type": "stream",
          "name": "stdout",
          "text": [
            "before the king. The king was \n"
          ]
        }
      ]
    },
    {
      "cell_type": "markdown",
      "source": [
        "### Test dengan kalimat bukan dari rhyme"
      ],
      "metadata": {
        "id": "0uZXT9wYxj7b"
      }
    },
    {
      "cell_type": "code",
      "source": [
        "print(generate_seq(model, mapping, 10, 'hello worl', 20))"
      ],
      "metadata": {
        "colab": {
          "base_uri": "https://localhost:8080/"
        },
        "id": "z_ZUYENUsWtg",
        "outputId": "6f6fe102-8460-4f2e-8d27-33da6fe20d31"
      },
      "execution_count": 34,
      "outputs": [
        {
          "output_type": "stream",
          "name": "stdout",
          "text": [
            "hello worl  hee aon weng oae i\n"
          ]
        }
      ]
    },
    {
      "cell_type": "code",
      "source": [
        "print(generate_seq(model, mapping, 10, 'good mor', 20))"
      ],
      "metadata": {
        "colab": {
          "base_uri": "https://localhost:8080/"
        },
        "id": "Baqvg_Jjtqvt",
        "outputId": "b9552f81-a6e6-4c81-b662-a4473655bbb9"
      },
      "execution_count": 35,
      "outputs": [
        {
          "output_type": "stream",
          "name": "stdout",
          "text": [
            "good morsexpo a t hee  taee.\n"
          ]
        }
      ]
    },
    {
      "cell_type": "code",
      "source": [
        "print(generate_seq(model, mapping, 10, 'welco', 20))"
      ],
      "metadata": {
        "colab": {
          "base_uri": "https://localhost:8080/"
        },
        "id": "kxcvBCGYwuFp",
        "outputId": "9104d13c-9564-425c-e401-5d3b996c0c39"
      },
      "execution_count": 36,
      "outputs": [
        {
          "output_type": "stream",
          "name": "stdout",
          "text": [
            "welco h  hen .oue  ae tie\n"
          ]
        }
      ]
    },
    {
      "cell_type": "markdown",
      "source": [
        "## Kesimpulan\n",
        "\n",
        "Model bekerja sangat baik untuk memprediksi karakter/kalimat selanjutnya dari kata-kata/kalimat input yang berasal dari text rhyme. Namun, jika kalimat input tidak berasal dari text rhyme, model kesulitan untuk memprediksi kalimat selanjutnya.\n",
        "\n",
        "Hasil analisis kami yaitu model overfiting dan sulit mengerti data-data baru diluar text yang dipakai saat training. Hal ini disebabkan oleh data training yang terlalu sedikit dan kurang bervariasi. Selain itu data teks yang digunakan merupakan sebuah lagu yang liriknya kurang bisa merepresentasikan bahasa manusia sehari-hari. Contohnya kalimat \"When the pie was opened, The birds began to sing. Wasn't that a dainty dish,\n",
        "To set before the king.\" merupakan kalimat kiasan yang dijadikan lirik lagu hanya agar menyesuaikan rima dan bukan kalimat yang digunakan manusia sehari-hari."
      ],
      "metadata": {
        "id": "rkMsoGXGyW7q"
      }
    }
  ]
}